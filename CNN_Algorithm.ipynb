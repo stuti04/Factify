{
  "cells": [
    {
      "cell_type": "code",
      "execution_count": 1,
      "metadata": {
        "id": "vadOeJp4svE3"
      },
      "outputs": [],
      "source": [
        "# importing necessary libraries \n",
        "import pandas as pd\n",
        "import tensorflow as tf\n",
        "import os\n",
        "import re\n",
        "import numpy as np\n",
        "from string import punctuation\n",
        "from zipfile import ZipFile\n",
        "from sklearn.model_selection import train_test_split\n",
        "import matplotlib.pyplot as plt\n",
        "\n",
        "# importing neural network libraries\n",
        "import tensorflow as tf\n",
        "from tensorflow.keras.preprocessing.text import Tokenizer\n",
        "from tensorflow.keras.preprocessing.sequence import pad_sequences\n",
        "from tensorflow.keras.models import Sequential\n",
        "from tensorflow.keras.layers import Dense, Dropout, Embedding, GRU, LSTM, RNN, SpatialDropout1D"
      ]
    },
    {
      "cell_type": "code",
      "source": [
        "train = pd.read_csv('train.csv')\n",
        "test = pd.read_csv('test.csv')\n",
        "train_data = train.copy()\n",
        "test_data = test.copy()"
      ],
      "metadata": {
        "id": "l3W51KnuseiD"
      },
      "execution_count": null,
      "outputs": []
    },
    {
      "cell_type": "code",
      "execution_count": null,
      "metadata": {
        "colab": {
          "base_uri": "https://localhost:8080/",
          "height": 35
        },
        "id": "mKMuaCslSji_",
        "outputId": "85231022-4665-4ba9-efab-adc239125ee3"
      },
      "outputs": [
        {
          "name": "stdout",
          "output_type": "stream",
          "text": [
            "1.14.0\n"
          ]
        }
      ],
      "source": [
        "print(tf.__version__)"
      ]
    },
    {
      "cell_type": "code",
      "execution_count": null,
      "metadata": {
        "colab": {
          "base_uri": "https://localhost:8080/",
          "height": 248
        },
        "id": "5LQwzaqRsvFM",
        "outputId": "d30be834-a759-4a4d-8887-198ab09bdd4d"
      },
      "outputs": [
        {
          "name": "stdout",
          "output_type": "stream",
          "text": [
            "(20800, 4)\n"
          ]
        },
        {
          "data": {
            "text/html": [
              "<div>\n",
              "<style scoped>\n",
              "    .dataframe tbody tr th:only-of-type {\n",
              "        vertical-align: middle;\n",
              "    }\n",
              "\n",
              "    .dataframe tbody tr th {\n",
              "        vertical-align: top;\n",
              "    }\n",
              "\n",
              "    .dataframe thead th {\n",
              "        text-align: right;\n",
              "    }\n",
              "</style>\n",
              "<table border=\"1\" class=\"dataframe\">\n",
              "  <thead>\n",
              "    <tr style=\"text-align: right;\">\n",
              "      <th></th>\n",
              "      <th>title</th>\n",
              "      <th>author</th>\n",
              "      <th>text</th>\n",
              "      <th>label</th>\n",
              "    </tr>\n",
              "    <tr>\n",
              "      <th>id</th>\n",
              "      <th></th>\n",
              "      <th></th>\n",
              "      <th></th>\n",
              "      <th></th>\n",
              "    </tr>\n",
              "  </thead>\n",
              "  <tbody>\n",
              "    <tr>\n",
              "      <th>0</th>\n",
              "      <td>House Dem Aide: We Didn’t Even See Comey’s Let...</td>\n",
              "      <td>Darrell Lucus</td>\n",
              "      <td>House Dem Aide: We Didn’t Even See Comey’s Let...</td>\n",
              "      <td>1</td>\n",
              "    </tr>\n",
              "    <tr>\n",
              "      <th>1</th>\n",
              "      <td>FLYNN: Hillary Clinton, Big Woman on Campus - ...</td>\n",
              "      <td>Daniel J. Flynn</td>\n",
              "      <td>Ever get the feeling your life circles the rou...</td>\n",
              "      <td>0</td>\n",
              "    </tr>\n",
              "    <tr>\n",
              "      <th>2</th>\n",
              "      <td>Why the Truth Might Get You Fired</td>\n",
              "      <td>Consortiumnews.com</td>\n",
              "      <td>Why the Truth Might Get You Fired October 29, ...</td>\n",
              "      <td>1</td>\n",
              "    </tr>\n",
              "    <tr>\n",
              "      <th>3</th>\n",
              "      <td>15 Civilians Killed In Single US Airstrike Hav...</td>\n",
              "      <td>Jessica Purkiss</td>\n",
              "      <td>Videos 15 Civilians Killed In Single US Airstr...</td>\n",
              "      <td>1</td>\n",
              "    </tr>\n",
              "    <tr>\n",
              "      <th>4</th>\n",
              "      <td>Iranian woman jailed for fictional unpublished...</td>\n",
              "      <td>Howard Portnoy</td>\n",
              "      <td>Print \\nAn Iranian woman has been sentenced to...</td>\n",
              "      <td>1</td>\n",
              "    </tr>\n",
              "  </tbody>\n",
              "</table>\n",
              "</div>"
            ],
            "text/plain": [
              "                                                title              author  \\\n",
              "id                                                                          \n",
              "0   House Dem Aide: We Didn’t Even See Comey’s Let...       Darrell Lucus   \n",
              "1   FLYNN: Hillary Clinton, Big Woman on Campus - ...     Daniel J. Flynn   \n",
              "2                   Why the Truth Might Get You Fired  Consortiumnews.com   \n",
              "3   15 Civilians Killed In Single US Airstrike Hav...     Jessica Purkiss   \n",
              "4   Iranian woman jailed for fictional unpublished...      Howard Portnoy   \n",
              "\n",
              "                                                 text  label  \n",
              "id                                                            \n",
              "0   House Dem Aide: We Didn’t Even See Comey’s Let...      1  \n",
              "1   Ever get the feeling your life circles the rou...      0  \n",
              "2   Why the Truth Might Get You Fired October 29, ...      1  \n",
              "3   Videos 15 Civilians Killed In Single US Airstr...      1  \n",
              "4   Print \\nAn Iranian woman has been sentenced to...      1  "
            ]
          },
          "execution_count": 3,
          "metadata": {},
          "output_type": "execute_result"
        }
      ],
      "source": [
        "train_data = train_data.set_index('id', drop = True)\n",
        "print(train_data.shape)\n",
        "train_data.head()"
      ]
    },
    {
      "cell_type": "code",
      "execution_count": null,
      "metadata": {
        "colab": {
          "base_uri": "https://localhost:8080/",
          "height": 218
        },
        "id": "OsSj_k9zsvFe",
        "outputId": "c600ad93-e46b-4867-bd94-912b542a5545"
      },
      "outputs": [
        {
          "name": "stdout",
          "output_type": "stream",
          "text": [
            "(5200, 4)\n"
          ]
        },
        {
          "data": {
            "text/html": [
              "<div>\n",
              "<style scoped>\n",
              "    .dataframe tbody tr th:only-of-type {\n",
              "        vertical-align: middle;\n",
              "    }\n",
              "\n",
              "    .dataframe tbody tr th {\n",
              "        vertical-align: top;\n",
              "    }\n",
              "\n",
              "    .dataframe thead th {\n",
              "        text-align: right;\n",
              "    }\n",
              "</style>\n",
              "<table border=\"1\" class=\"dataframe\">\n",
              "  <thead>\n",
              "    <tr style=\"text-align: right;\">\n",
              "      <th></th>\n",
              "      <th>id</th>\n",
              "      <th>title</th>\n",
              "      <th>author</th>\n",
              "      <th>text</th>\n",
              "    </tr>\n",
              "  </thead>\n",
              "  <tbody>\n",
              "    <tr>\n",
              "      <th>0</th>\n",
              "      <td>20800</td>\n",
              "      <td>Specter of Trump Loosens Tongues, if Not Purse...</td>\n",
              "      <td>David Streitfeld</td>\n",
              "      <td>PALO ALTO, Calif.  —   After years of scorning...</td>\n",
              "    </tr>\n",
              "    <tr>\n",
              "      <th>1</th>\n",
              "      <td>20801</td>\n",
              "      <td>Russian warships ready to strike terrorists ne...</td>\n",
              "      <td>NaN</td>\n",
              "      <td>Russian warships ready to strike terrorists ne...</td>\n",
              "    </tr>\n",
              "    <tr>\n",
              "      <th>2</th>\n",
              "      <td>20802</td>\n",
              "      <td>#NoDAPL: Native American Leaders Vow to Stay A...</td>\n",
              "      <td>Common Dreams</td>\n",
              "      <td>Videos #NoDAPL: Native American Leaders Vow to...</td>\n",
              "    </tr>\n",
              "    <tr>\n",
              "      <th>3</th>\n",
              "      <td>20803</td>\n",
              "      <td>Tim Tebow Will Attempt Another Comeback, This ...</td>\n",
              "      <td>Daniel Victor</td>\n",
              "      <td>If at first you don’t succeed, try a different...</td>\n",
              "    </tr>\n",
              "    <tr>\n",
              "      <th>4</th>\n",
              "      <td>20804</td>\n",
              "      <td>Keiser Report: Meme Wars (E995)</td>\n",
              "      <td>Truth Broadcast Network</td>\n",
              "      <td>42 mins ago 1 Views 0 Comments 0 Likes 'For th...</td>\n",
              "    </tr>\n",
              "  </tbody>\n",
              "</table>\n",
              "</div>"
            ],
            "text/plain": [
              "      id                                              title  \\\n",
              "0  20800  Specter of Trump Loosens Tongues, if Not Purse...   \n",
              "1  20801  Russian warships ready to strike terrorists ne...   \n",
              "2  20802  #NoDAPL: Native American Leaders Vow to Stay A...   \n",
              "3  20803  Tim Tebow Will Attempt Another Comeback, This ...   \n",
              "4  20804                    Keiser Report: Meme Wars (E995)   \n",
              "\n",
              "                    author                                               text  \n",
              "0         David Streitfeld  PALO ALTO, Calif.  —   After years of scorning...  \n",
              "1                      NaN  Russian warships ready to strike terrorists ne...  \n",
              "2            Common Dreams  Videos #NoDAPL: Native American Leaders Vow to...  \n",
              "3            Daniel Victor  If at first you don’t succeed, try a different...  \n",
              "4  Truth Broadcast Network  42 mins ago 1 Views 0 Comments 0 Likes 'For th...  "
            ]
          },
          "execution_count": 4,
          "metadata": {},
          "output_type": "execute_result"
        }
      ],
      "source": [
        "print(test_data.shape)\n",
        "test_data.head()"
      ]
    },
    {
      "cell_type": "code",
      "execution_count": null,
      "metadata": {
        "colab": {
          "base_uri": "https://localhost:8080/",
          "height": 106
        },
        "id": "jTmPdwMgsvFu",
        "outputId": "f66c19d8-5139-444a-f2a9-213ac3da53c6"
      },
      "outputs": [
        {
          "data": {
            "text/plain": [
              "title      558\n",
              "author    1957\n",
              "text        39\n",
              "label        0\n",
              "dtype: int64"
            ]
          },
          "execution_count": 5,
          "metadata": {},
          "output_type": "execute_result"
        }
      ],
      "source": [
        "# checking for missing values\n",
        "train_data.isnull().sum()"
      ]
    },
    {
      "cell_type": "code",
      "execution_count": null,
      "metadata": {
        "colab": {
          "base_uri": "https://localhost:8080/",
          "height": 284
        },
        "id": "nl4xDpN1svF6",
        "outputId": "09e7acd4-aec0-4527-bc6a-970f7094db6c"
      },
      "outputs": [
        {
          "name": "stdout",
          "output_type": "stream",
          "text": [
            "                                                   title  \\\n",
            "id                                                         \n",
            "0      House Dem Aide: We Didn’t Even See Comey’s Let...   \n",
            "1      FLYNN: Hillary Clinton, Big Woman on Campus - ...   \n",
            "2                      Why the Truth Might Get You Fired   \n",
            "3      15 Civilians Killed In Single US Airstrike Hav...   \n",
            "4      Iranian woman jailed for fictional unpublished...   \n",
            "...                                                  ...   \n",
            "20795  Rapper T.I.: Trump a ’Poster Child For White S...   \n",
            "20796  N.F.L. Playoffs: Schedule, Matchups and Odds -...   \n",
            "20797  Macy’s Is Said to Receive Takeover Approach by...   \n",
            "20798  NATO, Russia To Hold Parallel Exercises In Bal...   \n",
            "20799                          What Keeps the F-35 Alive   \n",
            "\n",
            "                                          author  \\\n",
            "id                                                 \n",
            "0                                  Darrell Lucus   \n",
            "1                                Daniel J. Flynn   \n",
            "2                             Consortiumnews.com   \n",
            "3                                Jessica Purkiss   \n",
            "4                                 Howard Portnoy   \n",
            "...                                          ...   \n",
            "20795                              Jerome Hudson   \n",
            "20796                           Benjamin Hoffman   \n",
            "20797  Michael J. de la Merced and Rachel Abrams   \n",
            "20798                                Alex Ansary   \n",
            "20799                              David Swanson   \n",
            "\n",
            "                                                    text  label  \n",
            "id                                                               \n",
            "0      House Dem Aide: We Didn’t Even See Comey’s Let...      1  \n",
            "1      Ever get the feeling your life circles the rou...      0  \n",
            "2      Why the Truth Might Get You Fired October 29, ...      1  \n",
            "3      Videos 15 Civilians Killed In Single US Airstr...      1  \n",
            "4      Print \\nAn Iranian woman has been sentenced to...      1  \n",
            "...                                                  ...    ...  \n",
            "20795  Rapper T. I. unloaded on black celebrities who...      0  \n",
            "20796  When the Green Bay Packers lost to the Washing...      0  \n",
            "20797  The Macy’s of today grew from the union of sev...      0  \n",
            "20798  NATO, Russia To Hold Parallel Exercises In Bal...      1  \n",
            "20799    David Swanson is an author, activist, journa...      1  \n",
            "\n",
            "[20800 rows x 4 columns]\n"
          ]
        }
      ],
      "source": [
        "# dropping missing values from text columns alone. \n",
        "\n",
        "train_data[['title', 'author']] = train_data[['title', 'author']].fillna(value = 'Missing')\n",
        "print(train_data)\n"
      ]
    },
    {
      "cell_type": "code",
      "execution_count": null,
      "metadata": {
        "colab": {
          "base_uri": "https://localhost:8080/",
          "height": 106
        },
        "id": "vK9s-UTtsvGH",
        "outputId": "e4cf04be-2f4d-4e12-c524-94aa33699d31"
      },
      "outputs": [
        {
          "data": {
            "text/plain": [
              "title     0\n",
              "author    0\n",
              "text      0\n",
              "label     0\n",
              "dtype: int64"
            ]
          },
          "execution_count": 7,
          "metadata": {},
          "output_type": "execute_result"
        }
      ],
      "source": [
        "train_data = train_data.dropna()\n",
        "train_data.isnull().sum()"
      ]
    },
    {
      "cell_type": "code",
      "execution_count": null,
      "metadata": {
        "colab": {
          "base_uri": "https://localhost:8080/",
          "height": 230
        },
        "id": "66I_QK5usvGY",
        "outputId": "e0b91536-f1c8-4560-8270-48d2271352a4"
      },
      "outputs": [
        {
          "data": {
            "text/html": [
              "<div>\n",
              "<style scoped>\n",
              "    .dataframe tbody tr th:only-of-type {\n",
              "        vertical-align: middle;\n",
              "    }\n",
              "\n",
              "    .dataframe tbody tr th {\n",
              "        vertical-align: top;\n",
              "    }\n",
              "\n",
              "    .dataframe thead th {\n",
              "        text-align: right;\n",
              "    }\n",
              "</style>\n",
              "<table border=\"1\" class=\"dataframe\">\n",
              "  <thead>\n",
              "    <tr style=\"text-align: right;\">\n",
              "      <th></th>\n",
              "      <th>title</th>\n",
              "      <th>author</th>\n",
              "      <th>text</th>\n",
              "      <th>label</th>\n",
              "      <th>length</th>\n",
              "    </tr>\n",
              "    <tr>\n",
              "      <th>id</th>\n",
              "      <th></th>\n",
              "      <th></th>\n",
              "      <th></th>\n",
              "      <th></th>\n",
              "      <th></th>\n",
              "    </tr>\n",
              "  </thead>\n",
              "  <tbody>\n",
              "    <tr>\n",
              "      <th>0</th>\n",
              "      <td>House Dem Aide: We Didn’t Even See Comey’s Let...</td>\n",
              "      <td>Darrell Lucus</td>\n",
              "      <td>House Dem Aide: We Didn’t Even See Comey’s Let...</td>\n",
              "      <td>1</td>\n",
              "      <td>4930</td>\n",
              "    </tr>\n",
              "    <tr>\n",
              "      <th>1</th>\n",
              "      <td>FLYNN: Hillary Clinton, Big Woman on Campus - ...</td>\n",
              "      <td>Daniel J. Flynn</td>\n",
              "      <td>Ever get the feeling your life circles the rou...</td>\n",
              "      <td>0</td>\n",
              "      <td>4160</td>\n",
              "    </tr>\n",
              "    <tr>\n",
              "      <th>2</th>\n",
              "      <td>Why the Truth Might Get You Fired</td>\n",
              "      <td>Consortiumnews.com</td>\n",
              "      <td>Why the Truth Might Get You Fired October 29, ...</td>\n",
              "      <td>1</td>\n",
              "      <td>7692</td>\n",
              "    </tr>\n",
              "    <tr>\n",
              "      <th>3</th>\n",
              "      <td>15 Civilians Killed In Single US Airstrike Hav...</td>\n",
              "      <td>Jessica Purkiss</td>\n",
              "      <td>Videos 15 Civilians Killed In Single US Airstr...</td>\n",
              "      <td>1</td>\n",
              "      <td>3237</td>\n",
              "    </tr>\n",
              "    <tr>\n",
              "      <th>4</th>\n",
              "      <td>Iranian woman jailed for fictional unpublished...</td>\n",
              "      <td>Howard Portnoy</td>\n",
              "      <td>Print \\nAn Iranian woman has been sentenced to...</td>\n",
              "      <td>1</td>\n",
              "      <td>938</td>\n",
              "    </tr>\n",
              "  </tbody>\n",
              "</table>\n",
              "</div>"
            ],
            "text/plain": [
              "                                                title              author  \\\n",
              "id                                                                          \n",
              "0   House Dem Aide: We Didn’t Even See Comey’s Let...       Darrell Lucus   \n",
              "1   FLYNN: Hillary Clinton, Big Woman on Campus - ...     Daniel J. Flynn   \n",
              "2                   Why the Truth Might Get You Fired  Consortiumnews.com   \n",
              "3   15 Civilians Killed In Single US Airstrike Hav...     Jessica Purkiss   \n",
              "4   Iranian woman jailed for fictional unpublished...      Howard Portnoy   \n",
              "\n",
              "                                                 text  label  length  \n",
              "id                                                                    \n",
              "0   House Dem Aide: We Didn’t Even See Comey’s Let...      1    4930  \n",
              "1   Ever get the feeling your life circles the rou...      0    4160  \n",
              "2   Why the Truth Might Get You Fired October 29, ...      1    7692  \n",
              "3   Videos 15 Civilians Killed In Single US Airstr...      1    3237  \n",
              "4   Print \\nAn Iranian woman has been sentenced to...      1     938  "
            ]
          },
          "execution_count": 8,
          "metadata": {},
          "output_type": "execute_result"
        }
      ],
      "source": [
        "length = []\n",
        "[length.append(len(str(text))) for text in train_data['text']]\n",
        "train_data['length'] = length\n",
        "train_data.head()"
      ]
    },
    {
      "cell_type": "code",
      "execution_count": null,
      "metadata": {
        "colab": {
          "base_uri": "https://localhost:8080/",
          "height": 35
        },
        "id": "q57FhbSnsvGo",
        "outputId": "309a217d-bfe8-43d4-99f9-5d27d20d0a4c"
      },
      "outputs": [
        {
          "data": {
            "text/plain": [
              "(1, 142961, 4553)"
            ]
          },
          "execution_count": 9,
          "metadata": {},
          "output_type": "execute_result"
        }
      ],
      "source": [
        "min(train_data['length']), max(train_data['length']), round(sum(train_data['length'])/len(train_data['length']))"
      ]
    },
    {
      "cell_type": "code",
      "execution_count": null,
      "metadata": {
        "colab": {
          "base_uri": "https://localhost:8080/",
          "height": 248
        },
        "id": "TopcVVlUsvG0",
        "outputId": "ce9a8153-12b8-448c-f745-98557d8eb159"
      },
      "outputs": [
        {
          "data": {
            "text/plain": [
              "id\n",
              "82                                                   \n",
              "169                                                  \n",
              "173                                   Guest   Guest  \n",
              "196            They got the heater turned up on high.\n",
              "295                                                  \n",
              "                             ...                     \n",
              "20350                         I hope nobody got hurt!\n",
              "20418                                 Guest   Guest  \n",
              "20431    \\nOctober 28, 2016 The Mothers by stclair by\n",
              "20513                                                \n",
              "20636                              Trump all the way!\n",
              "Name: text, Length: 207, dtype: object"
            ]
          },
          "execution_count": 10,
          "metadata": {},
          "output_type": "execute_result"
        }
      ],
      "source": [
        "len(train_data[train_data['length'] < 50])\n",
        "train_data['text'][train_data['length'] < 50]"
      ]
    },
    {
      "cell_type": "code",
      "execution_count": null,
      "metadata": {
        "colab": {
          "base_uri": "https://localhost:8080/",
          "height": 230
        },
        "id": "52z4JN2FsvHA",
        "outputId": "d2cdf3bd-6ae0-4067-ea35-e62f916f6635"
      },
      "outputs": [
        {
          "data": {
            "text/html": [
              "<div>\n",
              "<style scoped>\n",
              "    .dataframe tbody tr th:only-of-type {\n",
              "        vertical-align: middle;\n",
              "    }\n",
              "\n",
              "    .dataframe tbody tr th {\n",
              "        vertical-align: top;\n",
              "    }\n",
              "\n",
              "    .dataframe thead th {\n",
              "        text-align: right;\n",
              "    }\n",
              "</style>\n",
              "<table border=\"1\" class=\"dataframe\">\n",
              "  <thead>\n",
              "    <tr style=\"text-align: right;\">\n",
              "      <th></th>\n",
              "      <th>title</th>\n",
              "      <th>author</th>\n",
              "      <th>text</th>\n",
              "      <th>label</th>\n",
              "      <th>length</th>\n",
              "    </tr>\n",
              "    <tr>\n",
              "      <th>id</th>\n",
              "      <th></th>\n",
              "      <th></th>\n",
              "      <th></th>\n",
              "      <th></th>\n",
              "      <th></th>\n",
              "    </tr>\n",
              "  </thead>\n",
              "  <tbody>\n",
              "    <tr>\n",
              "      <th>0</th>\n",
              "      <td>House Dem Aide: We Didn’t Even See Comey’s Let...</td>\n",
              "      <td>Darrell Lucus</td>\n",
              "      <td>House Dem Aide: We Didn’t Even See Comey’s Let...</td>\n",
              "      <td>1</td>\n",
              "      <td>4930</td>\n",
              "    </tr>\n",
              "    <tr>\n",
              "      <th>1</th>\n",
              "      <td>FLYNN: Hillary Clinton, Big Woman on Campus - ...</td>\n",
              "      <td>Daniel J. Flynn</td>\n",
              "      <td>Ever get the feeling your life circles the rou...</td>\n",
              "      <td>0</td>\n",
              "      <td>4160</td>\n",
              "    </tr>\n",
              "    <tr>\n",
              "      <th>2</th>\n",
              "      <td>Why the Truth Might Get You Fired</td>\n",
              "      <td>Consortiumnews.com</td>\n",
              "      <td>Why the Truth Might Get You Fired October 29, ...</td>\n",
              "      <td>1</td>\n",
              "      <td>7692</td>\n",
              "    </tr>\n",
              "    <tr>\n",
              "      <th>3</th>\n",
              "      <td>15 Civilians Killed In Single US Airstrike Hav...</td>\n",
              "      <td>Jessica Purkiss</td>\n",
              "      <td>Videos 15 Civilians Killed In Single US Airstr...</td>\n",
              "      <td>1</td>\n",
              "      <td>3237</td>\n",
              "    </tr>\n",
              "    <tr>\n",
              "      <th>4</th>\n",
              "      <td>Iranian woman jailed for fictional unpublished...</td>\n",
              "      <td>Howard Portnoy</td>\n",
              "      <td>Print \\nAn Iranian woman has been sentenced to...</td>\n",
              "      <td>1</td>\n",
              "      <td>938</td>\n",
              "    </tr>\n",
              "  </tbody>\n",
              "</table>\n",
              "</div>"
            ],
            "text/plain": [
              "                                                title              author  \\\n",
              "id                                                                          \n",
              "0   House Dem Aide: We Didn’t Even See Comey’s Let...       Darrell Lucus   \n",
              "1   FLYNN: Hillary Clinton, Big Woman on Campus - ...     Daniel J. Flynn   \n",
              "2                   Why the Truth Might Get You Fired  Consortiumnews.com   \n",
              "3   15 Civilians Killed In Single US Airstrike Hav...     Jessica Purkiss   \n",
              "4   Iranian woman jailed for fictional unpublished...      Howard Portnoy   \n",
              "\n",
              "                                                 text  label  length  \n",
              "id                                                                    \n",
              "0   House Dem Aide: We Didn’t Even See Comey’s Let...      1    4930  \n",
              "1   Ever get the feeling your life circles the rou...      0    4160  \n",
              "2   Why the Truth Might Get You Fired October 29, ...      1    7692  \n",
              "3   Videos 15 Civilians Killed In Single US Airstr...      1    3237  \n",
              "4   Print \\nAn Iranian woman has been sentenced to...      1     938  "
            ]
          },
          "execution_count": 11,
          "metadata": {},
          "output_type": "execute_result"
        }
      ],
      "source": [
        "# dropping the outliers\n",
        "train_data = train_data.drop(train_data['text'][train_data['length'] < 50].index, axis = 0)\n",
        "min(train_data['length']), max(train_data['length']), round(sum(train_data['length'])/len(train_data['length']))\n",
        "train_data.head()"
      ]
    },
    {
      "cell_type": "code",
      "execution_count": null,
      "metadata": {
        "colab": {
          "base_uri": "https://localhost:8080/",
          "height": 88
        },
        "id": "N3lu2qBUsvHN",
        "outputId": "c36c0f4f-faf0-4ced-8b11-ea88ac76965d"
      },
      "outputs": [
        {
          "name": "stderr",
          "output_type": "stream",
          "text": [
            "Using TensorFlow backend.\n"
          ]
        },
        {
          "name": "stdout",
          "output_type": "stream",
          "text": [
            "(20554, 1500)\n",
            "(20554, 2)\n",
            "Found 238036 unique tokens.\n"
          ]
        }
      ],
      "source": [
        "# Tokenizing the text - converting the words, letters into counts or numbers. \n",
        "# We dont need to explicitly remove the punctuations. we have an inbuilt option in Tokenizer for this purpose\n",
        "\n",
        "from keras.preprocessing.text import Tokenizer\n",
        "from keras.preprocessing.sequence import pad_sequences\n",
        "from keras.layers import Embedding\n",
        "from keras.utils import to_categorical\n",
        "import pickle\n",
        "\n",
        "\n",
        "max_features = 4500\n",
        "MAX_SEQUENCE_LENGTH=1500 #max word length of each individual article\n",
        "EMBEDDING_DIM=300 #dimensionality of the embedding vector (50, 100, 200, 300)\n",
        "\n",
        "tokenizer = Tokenizer(num_words = max_features, filters='!\"#$%&()*+,-./:;<=>?@[\\\\]^_`{|}~\\t\\n', lower = True, split = ' ')\n",
        "tokenizer.fit_on_texts(texts = train_data['text'])\n",
        "sequences = tokenizer.texts_to_sequences(texts = train_data['text'])\n",
        "\n",
        "# now applying padding to make them even shaped.\n",
        "X = pad_sequences(sequences = sequences, maxlen = MAX_SEQUENCE_LENGTH, padding = 'pre')\n",
        "print(X.shape)\n",
        "\n",
        "labels = train_data['label'].values\n",
        "Y = to_categorical(labels, num_classes=len(set(labels)))\n",
        "print(Y.shape)\n",
        "\n",
        "#word index\n",
        "word_index = tokenizer.word_index\n",
        "print('Found %s unique tokens.' % len(word_index))\n"
      ]
    },
    {
      "cell_type": "code",
      "execution_count": null,
      "metadata": {
        "colab": {
          "base_uri": "https://localhost:8080/",
          "height": 301
        },
        "id": "wMiAVBR-svHY",
        "outputId": "73a42ca6-a29c-4a2e-ca8a-e555d611dccd"
      },
      "outputs": [
        {
          "name": "stdout",
          "output_type": "stream",
          "text": [
            "training data text: \n",
            "[[   0    0    0 ... 1096    5 4240]\n",
            " [   0    0    0 ... 3757  138 1169]\n",
            " [   0    0    0 ...    3  208  670]\n",
            " ...\n",
            " [   0    0    0 ... 1665  327   11]\n",
            " [   0    0    0 ...    5  559   11]\n",
            " [   0    0    0 ...  535   27 1330]]\n",
            "training data labels: \n",
            "[[0. 1.]\n",
            " [1. 0.]\n",
            " [0. 1.]\n",
            " ...\n",
            " [1. 0.]\n",
            " [1. 0.]\n",
            " [1. 0.]]\n"
          ]
        }
      ],
      "source": [
        "#split the data (90% train, 5% test, 5% validation)\n",
        "\n",
        "train_text = X[:int(len(X)*0.9)]\n",
        "print(\"training data text: \")\n",
        "print(train_text)\n",
        "\n",
        "train_labels = Y[:int(len(X)*0.9)]\n",
        "print(\"training data labels: \")\n",
        "print(train_labels)\n"
      ]
    },
    {
      "cell_type": "code",
      "execution_count": null,
      "metadata": {
        "colab": {
          "base_uri": "https://localhost:8080/",
          "height": 301
        },
        "id": "ZHWMRvcIsvHh",
        "outputId": "f4ebade9-2bfe-42f1-8416-3888350bc6c5"
      },
      "outputs": [
        {
          "name": "stdout",
          "output_type": "stream",
          "text": [
            "testing data text: \n",
            "[[   0    0    0 ...  680 1770 1280]\n",
            " [   0    0    0 ... 4394   10  198]\n",
            " [   0    0    0 ...   47   27 3298]\n",
            " ...\n",
            " [   0    0    0 ...   41  130   14]\n",
            " [   0    0    0 ...  276 1052  178]\n",
            " [   0    0    0 ...   86   14  348]]\n",
            "testing data labels: \n",
            "[[0. 1.]\n",
            " [1. 0.]\n",
            " [0. 1.]\n",
            " ...\n",
            " [0. 1.]\n",
            " [0. 1.]\n",
            " [1. 0.]]\n"
          ]
        }
      ],
      "source": [
        "test_text = X[int(len(X)*0.9):int(len(X)*0.95)]\n",
        "print(\"testing data text: \")\n",
        "print(test_text)\n",
        "\n",
        "test_labels = Y[int(len(X)*0.9):int(len(X)*0.95)]\n",
        "print(\"testing data labels: \")\n",
        "print(test_labels)\n"
      ]
    },
    {
      "cell_type": "code",
      "execution_count": null,
      "metadata": {
        "colab": {
          "base_uri": "https://localhost:8080/",
          "height": 301
        },
        "id": "eyilat-HsvHw",
        "outputId": "a15b0393-5ead-4cf0-bec6-01f5c8e9ba34"
      },
      "outputs": [
        {
          "name": "stdout",
          "output_type": "stream",
          "text": [
            "validation data text: \n",
            "[[   0    0    0 ...  176   11  534]\n",
            " [ 205  399   99 ...  945  691 4240]\n",
            " [   0    0    0 ...   16   13  111]\n",
            " ...\n",
            " [   0    0    0 ... 3774  774   11]\n",
            " [   0    0    0 ...   10   59 3818]\n",
            " [   0    0    0 ... 1543 2259 3539]]\n",
            "validation data labels: \n",
            "[[0. 1.]\n",
            " [0. 1.]\n",
            " [1. 0.]\n",
            " ...\n",
            " [1. 0.]\n",
            " [0. 1.]\n",
            " [0. 1.]]\n"
          ]
        }
      ],
      "source": [
        "valid_text = X[int(len(X)*0.95):]\n",
        "print(\"validation data text: \")\n",
        "print(valid_text)\n",
        "\n",
        "valid_labels = Y[int(len(X)*0.95):]\n",
        "print(\"validation data labels: \")\n",
        "print(valid_labels)"
      ]
    },
    {
      "cell_type": "code",
      "execution_count": null,
      "metadata": {
        "colab": {
          "base_uri": "https://localhost:8080/",
          "height": 1000
        },
        "id": "qOXcdgFcsvIA",
        "outputId": "781a3a9e-a46c-41f1-d640-1c4743557c0c"
      },
      "outputs": [
        {
          "name": "stdout",
          "output_type": "stream",
          "text": [
            "Found 400000 word vectors.\n",
            "WARNING:tensorflow:From C:\\Users\\sainaya\\anaconda3\\lib\\site-packages\\keras\\backend\\tensorflow_backend.py:4070: The name tf.nn.max_pool is deprecated. Please use tf.nn.max_pool2d instead.\n",
            "\n",
            "Model: \"model_1\"\n",
            "_________________________________________________________________\n",
            "Layer (type)                 Output Shape              Param #   \n",
            "=================================================================\n",
            "input_1 (InputLayer)         (None, 1500)              0         \n",
            "_________________________________________________________________\n",
            "embedding_1 (Embedding)      (None, 1500, 300)         71411100  \n",
            "_________________________________________________________________\n",
            "conv1d_1 (Conv1D)            (None, 1496, 64)          96064     \n",
            "_________________________________________________________________\n",
            "max_pooling1d_1 (MaxPooling1 (None, 299, 64)           0         \n",
            "_________________________________________________________________\n",
            "conv1d_2 (Conv1D)            (None, 297, 128)          24704     \n",
            "_________________________________________________________________\n",
            "max_pooling1d_2 (MaxPooling1 (None, 59, 128)           0         \n",
            "_________________________________________________________________\n",
            "conv1d_3 (Conv1D)            (None, 58, 256)           65792     \n",
            "_________________________________________________________________\n",
            "global_average_pooling1d_1 ( (None, 256)               0         \n",
            "_________________________________________________________________\n",
            "dense_1 (Dense)              (None, 2048)              526336    \n",
            "_________________________________________________________________\n",
            "dropout_1 (Dropout)          (None, 2048)              0         \n",
            "_________________________________________________________________\n",
            "dense_2 (Dense)              (None, 512)               1049088   \n",
            "_________________________________________________________________\n",
            "dropout_2 (Dropout)          (None, 512)               0         \n",
            "_________________________________________________________________\n",
            "dense_3 (Dense)              (None, 2)                 1026      \n",
            "=================================================================\n",
            "Total params: 73,174,110\n",
            "Trainable params: 1,763,010\n",
            "Non-trainable params: 71,411,100\n",
            "_________________________________________________________________\n",
            "None\n",
            "WARNING:tensorflow:From C:\\Users\\sainaya\\anaconda3\\lib\\site-packages\\keras\\backend\\tensorflow_backend.py:422: The name tf.global_variables is deprecated. Please use tf.compat.v1.global_variables instead.\n",
            "\n",
            "Train on 18498 samples, validate on 1028 samples\n",
            "Epoch 1/5\n",
            "18498/18498 [==============================] - 267s 14ms/step - loss: 0.2886 - acc: 0.8698 - val_loss: 0.1155 - val_acc: 0.9591\n",
            "Epoch 2/5\n",
            "18498/18498 [==============================] - 242s 13ms/step - loss: 0.0891 - acc: 0.9684 - val_loss: 0.1025 - val_acc: 0.9630\n",
            "Epoch 3/5\n",
            "18498/18498 [==============================] - 267s 14ms/step - loss: 0.0547 - acc: 0.9814 - val_loss: 0.0945 - val_acc: 0.9689\n",
            "Epoch 4/5\n",
            "18498/18498 [==============================] - 245s 13ms/step - loss: 0.0333 - acc: 0.9890 - val_loss: 0.0925 - val_acc: 0.9737\n",
            "Epoch 5/5\n",
            "18498/18498 [==============================] - 242s 13ms/step - loss: 0.0192 - acc: 0.9945 - val_loss: 0.1456 - val_acc: 0.9591\n"
          ]
        },
        {
          "data": {
            "text/plain": [
              "<keras.callbacks.callbacks.History at 0x20f935f1488>"
            ]
          },
          "execution_count": 16,
          "metadata": {},
          "output_type": "execute_result"
        }
      ],
      "source": [
        "def load_embeddings(word_index, embeddingsfile='glove.6B.%id.txt' %EMBEDDING_DIM):\n",
        "    embeddings_index = {}\n",
        "    f = open(embeddingsfile, 'r', encoding='utf8')\n",
        "    for line in f:\n",
        "        #here we parse the data from the file\n",
        "        values = line.split(' ') #split the line by spaces\n",
        "        word = values[0] #each line starts with the word\n",
        "        coefs = np.asarray(values[1:], dtype='float32') #the rest of the line is the vector\n",
        "        embeddings_index[word] = coefs #put into embedding dictionary\n",
        "    f.close()\n",
        "\n",
        "    print('Found %s word vectors.' % len(embeddings_index))\n",
        "\n",
        "    embedding_matrix = np.zeros((len(word_index) + 1, EMBEDDING_DIM))\n",
        "    for word, i in word_index.items():\n",
        "        embedding_vector = embeddings_index.get(word)\n",
        "        if embedding_vector is not None:\n",
        "            # words not found in embedding index will be all-zeros.\n",
        "            embedding_matrix[i] = embedding_vector\n",
        "    \n",
        "    embedding_layer = Embedding(len(word_index) + 1,\n",
        "                                EMBEDDING_DIM,\n",
        "                                weights=[embedding_matrix],\n",
        "                                input_length=MAX_SEQUENCE_LENGTH,\n",
        "                                trainable=False)\n",
        "    return embedding_layer\n",
        "    \n",
        "#and build the embedding layer\n",
        "embedding_layer = load_embeddings(word_index)\n",
        "\n",
        "#build the baseline model architecture\n",
        "from keras import Sequential, Model, Input\n",
        "from keras.layers import Conv1D, MaxPooling1D, AveragePooling1D, Flatten, Dense, GlobalAveragePooling1D, Dropout, LSTM, CuDNNLSTM, RNN, SimpleRNN, Conv2D, GlobalMaxPooling1D\n",
        "from keras import callbacks\n",
        "\n",
        "def baseline_model(sequence_input, embedded_sequences, classes=2):\n",
        "    x = Conv1D(64, 5, activation='relu')(embedded_sequences)\n",
        "    x = MaxPooling1D(5)(x)\n",
        "    x = Conv1D(128, 3, activation='relu')(x)\n",
        "    x = MaxPooling1D(5)(x)\n",
        "    x = Conv1D(256, 2, activation='relu')(x)\n",
        "    x = GlobalAveragePooling1D()(x)\n",
        "    x = Dense(2048, activation='relu')(x)\n",
        "    x = Dropout(0.5)(x)\n",
        "    x = Dense(512, activation='relu')(x)\n",
        "    x = Dropout(0.5)(x)\n",
        "    preds = Dense(classes, activation='softmax')(x)\n",
        "\n",
        "    model = Model(sequence_input, preds)\n",
        "    return model\n",
        "\n",
        "\n",
        "#put embedding layer into input of the model\n",
        "sequence_input = Input(shape=(MAX_SEQUENCE_LENGTH,), dtype='int32')\n",
        "embedded_sequences = embedding_layer(sequence_input)\n",
        "\n",
        "model = baseline_model(sequence_input, embedded_sequences, classes=2)\n",
        "\n",
        "model.compile(loss='categorical_crossentropy',\n",
        "              optimizer='adamax',\n",
        "              metrics=['acc'])\n",
        "\n",
        "print(model.summary())\n",
        "\n",
        "model.fit(train_text, train_labels,\n",
        "          validation_data=(valid_text, valid_labels),\n",
        "          epochs=5, batch_size=64)"
      ]
    },
    {
      "cell_type": "code",
      "execution_count": null,
      "metadata": {
        "colab": {
          "base_uri": "https://localhost:8080/",
          "height": 52
        },
        "id": "332O6eOtsvIX",
        "outputId": "313a089d-abce-454c-b9e5-eb4ba9d81e64"
      },
      "outputs": [
        {
          "name": "stdout",
          "output_type": "stream",
          "text": [
            "1028/1028 [==============================] - 5s 5ms/step\n"
          ]
        },
        {
          "data": {
            "text/plain": [
              "[0.15206673538044152, 0.9533073902130127]"
            ]
          },
          "execution_count": 17,
          "metadata": {},
          "output_type": "execute_result"
        }
      ],
      "source": [
        "#test the model with the testing data (5%)\n",
        "model.evaluate(test_text,test_labels)\n"
      ]
    },
    {
      "cell_type": "code",
      "execution_count": null,
      "metadata": {
        "colab": {
          "base_uri": "https://localhost:8080/",
          "height": 1000
        },
        "id": "fZuDiXIjsvIf",
        "outputId": "6b180806-4f77-4bc3-fc82-18a8c206c742",
        "scrolled": false
      },
      "outputs": [
        {
          "name": "stdout",
          "output_type": "stream",
          "text": [
            "List value are : \n",
            "https://www.cnn.com/2020/07/01/china/hong-kong-national-security-law-july-1-intl-hnk/index.html\n",
            "[[   0    0    0 ...   43    3 1891]]\n",
            "[0.9515556  0.04844436]\n",
            "1\n",
            "https://www.cnbc.com/2020/06/30/stock-market-futures-open-to-close-news.html\n",
            "[[   0    0    0 ...    6 2185    1]]\n",
            "[0.1821113  0.81788874]\n",
            "0\n",
            "https://www.cnet.com/how-to/spacex-just-launched-a-space-force-satellite-with-brand-new-falcon-9-booster/\n",
            "[[   0    0    0 ...  548    2 1238]]\n",
            "[0.99826175 0.00173824]\n",
            "1\n",
            "https://www.youtube.com/watch?v=G2D7DAzp2_g\n",
            "error'NoneType' object has no attribute 'xpath'\n",
            "https://www.cnn.com/2020/07/01/politics/donald-trump-coronavirus/index.html\n",
            "[[   0    0    0 ... 3024  249   17]]\n",
            "[0.9983334  0.00166668]\n",
            "1\n",
            "https://www.cnn.com/2020/06/30/politics/primary-results-highlights-june-30/index.html\n",
            "[[   0    0    0 ...   12 1437  467]]\n",
            "[0.99843997 0.00156009]\n",
            "1\n",
            "https://www.geo.tv/latest/295694-kate-middleton-warned-prince-harry-to-move-with-caution-while-dating-meghan-markle\n",
            "[[   0    0    0 ...  155    1 3822]]\n",
            "[0.9843307  0.01566932]\n",
            "1\n",
            "https://www.marketwatch.com/story/a-new-virus-emerging-in-chinese-pig-farms-has-the-essential-hallmarks-for-a-pandemic-2020-07-01\n",
            "[[ 0  0  0 ...  3  1 11]]\n",
            "[0.99832696 0.00167306]\n",
            "1\n",
            "https://www.engadget.com/mars-2020-rover-launch-delay-july-30-002955836.html\n",
            "[[   0    0    0 ...    6   10 1150]]\n",
            "[0.24355824 0.7564418 ]\n",
            "0\n",
            "https://phys.org/news/2020-06-zealand-ancient-monster-penguins-northern.html\n",
            "error'NoneType' object has no attribute 'xpath'\n",
            "https://9to5mac.com/2020/06/30/new-evilquest-mac-ransomware-found-in-pirated-apps-encrypts-users-files/\n",
            "[[   0    0    0 ...   44 1996  106]]\n",
            "[0.9278594  0.07214065]\n",
            "1\n",
            "https://www.dailymail.co.uk/tvshowbiz/article-8477401/Alyssa-Milano-claps-critics-accusing-blackface.html\n",
            "[[   0    0    0 ...    5   39 3843]]\n",
            "[0.9494443  0.05055574]\n",
            "1\n",
            "https://www.foxnews.com/sports/baseballs-minor-leagues-cancel-2020-seasons\n",
            "[[  0   0   0 ...   1 458  11]]\n",
            "[9.997414e-01 2.586362e-04]\n",
            "1\n",
            "https://www.theguardian.com/us-news/2020/jun/30/mississippi-flag-confederate-symbol-remove\n",
            "[[  0   0   0 ... 882 513  11]]\n",
            "[9.360715e-06 9.999906e-01]\n",
            "0\n",
            "https://www.nytimes.com/2020/06/30/us/coronavirus-schools-reopening-guidelines-aap.html\n",
            "[[  0   0   0 ... 603 131   6]]\n",
            "[0.991318   0.00868207]\n",
            "1\n",
            "https://www.foxnews.com/media/adam-kinzinger-russian-bounty-intel-trump-briefing\n",
            "[[  0   0   0 ...   2  27 271]]\n",
            "[0.9950813  0.00491865]\n",
            "1\n",
            "https://www.foxnews.com/politics/pompeo-united-nations-iran-arms-embargo\n",
            "[[  0   0   0 ... 748  16 282]]\n",
            "[0.99749434 0.00250567]\n",
            "1\n",
            "https://www.bbc.com/news/world-europe-53233386\n",
            "[[   0    0    0 ...   10 2542    6]]\n",
            "[0.00378917 0.9962108 ]\n",
            "0\n",
            "https://www.wsj.com/articles/an-old-vaccine-may-help-against-coronavirus-11593557168\n",
            "[[  0   0   0 ...  18 203 308]]\n",
            "[0.00336555 0.9966344 ]\n",
            "0\n",
            "https://www.washingtonpost.com/health/protests-probably-didnt-lead-to-coronavirus-spikes-but-its-hard-to-know-for-sure/2020/06/30/d8179678-baf5-11ea-8cf5-9c1b8d7f84c6_story.html\n",
            "[[  0   0   0 ... 148  14 982]]\n",
            "[9.9989223e-01 1.0769858e-04]\n",
            "1\n"
          ]
        }
      ],
      "source": [
        "from urllib.request import urlopen \n",
        "from newspaper import fulltext\n",
        "import requests \n",
        "\n",
        "def tokenize_text(text1):\n",
        "    sequences = tokenizer.texts_to_sequences(text1)\n",
        "    data = pad_sequences(sequences, maxlen=MAX_SEQUENCE_LENGTH)\n",
        "\n",
        "    return data\n",
        "    \n",
        "# top US news api \n",
        "main_url = \"http://newsapi.org/v2/top-headlines?country=us&apiKey=aeb02e73e782448cb7f027138a35f496\"\n",
        "\n",
        "# fetching data in json format \n",
        "tech = requests.get(main_url).json()\n",
        "    \n",
        "# getting all articles in a string article \n",
        "article = tech[\"articles\"]\n",
        "  \n",
        "# empty list which will  \n",
        "# contain all trending news \n",
        "results = [] \n",
        "      \n",
        "for ar in article: \n",
        "    results.append(ar[\"url\"]) \n",
        "        \n",
        "print (\"List value are : \") \n",
        "\n",
        "\n",
        "i=0\n",
        "label_list = []\n",
        "\n",
        "prediction = []\n",
        "for i in range(len(results)):\n",
        "    try:\n",
        "        print(results[i])\n",
        "        html = requests.get(results[i]).text\n",
        "        text1 = fulltext(html)\n",
        "        tok = tokenize_text([text1])\n",
        "        print(tok)\n",
        "        preds = model.predict(tok)\n",
        "        pred1 = preds[0]\n",
        "        print(pred1)\n",
        "        true = pred1[0]\n",
        "        p = 0\n",
        "        if true < 0.50:\n",
        "            p = 0\n",
        "        else:\n",
        "            p = 1\n",
        "        label_list.append(p)\n",
        "        print(p)\n",
        "    except Exception as e:\n",
        "        print('error' +str(e))\n",
        "        p=0\n",
        "        label_list.append(p)"
      ]
    },
    {
      "cell_type": "code",
      "execution_count": null,
      "metadata": {
        "colab": {
          "base_uri": "https://localhost:8080/",
          "height": 108
        },
        "id": "xDumV-FCkJl3",
        "outputId": "54f96013-94f5-4a11-fb76-adff02cbdb08"
      },
      "outputs": [
        {
          "name": "stdout",
          "output_type": "stream",
          "text": [
            "['https://www.cnn.com/2020/07/01/china/hong-kong-national-security-law-july-1-intl-hnk/index.html', 'https://www.cnbc.com/2020/06/30/stock-market-futures-open-to-close-news.html', 'https://www.cnet.com/how-to/spacex-just-launched-a-space-force-satellite-with-brand-new-falcon-9-booster/', 'https://www.youtube.com/watch?v=G2D7DAzp2_g', 'https://www.cnn.com/2020/07/01/politics/donald-trump-coronavirus/index.html', 'https://www.cnn.com/2020/06/30/politics/primary-results-highlights-june-30/index.html', 'https://www.geo.tv/latest/295694-kate-middleton-warned-prince-harry-to-move-with-caution-while-dating-meghan-markle', 'https://www.marketwatch.com/story/a-new-virus-emerging-in-chinese-pig-farms-has-the-essential-hallmarks-for-a-pandemic-2020-07-01', 'https://www.engadget.com/mars-2020-rover-launch-delay-july-30-002955836.html', 'https://phys.org/news/2020-06-zealand-ancient-monster-penguins-northern.html', 'https://9to5mac.com/2020/06/30/new-evilquest-mac-ransomware-found-in-pirated-apps-encrypts-users-files/', 'https://www.dailymail.co.uk/tvshowbiz/article-8477401/Alyssa-Milano-claps-critics-accusing-blackface.html', 'https://www.foxnews.com/sports/baseballs-minor-leagues-cancel-2020-seasons', 'https://www.theguardian.com/us-news/2020/jun/30/mississippi-flag-confederate-symbol-remove', 'https://www.nytimes.com/2020/06/30/us/coronavirus-schools-reopening-guidelines-aap.html', 'https://www.foxnews.com/media/adam-kinzinger-russian-bounty-intel-trump-briefing', 'https://www.foxnews.com/politics/pompeo-united-nations-iran-arms-embargo', 'https://www.bbc.com/news/world-europe-53233386', 'https://www.wsj.com/articles/an-old-vaccine-may-help-against-coronavirus-11593557168', 'https://www.washingtonpost.com/health/protests-probably-didnt-lead-to-coronavirus-spikes-but-its-hard-to-know-for-sure/2020/06/30/d8179678-baf5-11ea-8cf5-9c1b8d7f84c6_story.html']\n",
            "20\n",
            "[1, 0, 1, 0, 1, 1, 1, 1, 0, 0, 1, 1, 1, 0, 1, 1, 1, 0, 0, 1]\n",
            "20\n"
          ]
        }
      ],
      "source": [
        "print(results)\n",
        "print(len(results))\n",
        "print(label_list)\n",
        "print(len(label_list))"
      ]
    },
    {
      "cell_type": "code",
      "execution_count": null,
      "metadata": {
        "colab": {
          "base_uri": "https://localhost:8080/",
          "height": 390
        },
        "id": "5LJds8BicZg8",
        "outputId": "23bd4aa9-6b07-479b-b677-6170b304a790"
      },
      "outputs": [
        {
          "name": "stdout",
          "output_type": "stream",
          "text": [
            "Enter the entries rowwise:\n",
            "https://www.cnn.com/2020/07/01/china/hong-kong-national-security-law-july-1-intl-hnk/index.html \n",
            "https://www.cnbc.com/2020/06/30/stock-market-futures-open-to-close-news.html \n",
            "https://www.cnet.com/how-to/spacex-just-launched-a-space-force-satellite-with-brand-new-falcon-9-booster/ \n",
            "https://www.youtube.com/watch?v=G2D7DAzp2_g \n",
            "https://www.cnn.com/2020/07/01/politics/donald-trump-coronavirus/index.html \n",
            "https://www.cnn.com/2020/06/30/politics/primary-results-highlights-june-30/index.html \n",
            "https://www.geo.tv/latest/295694-kate-middleton-warned-prince-harry-to-move-with-caution-while-dating-meghan-markle \n",
            "https://www.marketwatch.com/story/a-new-virus-emerging-in-chinese-pig-farms-has-the-essential-hallmarks-for-a-pandemic-2020-07-01 \n",
            "https://www.engadget.com/mars-2020-rover-launch-delay-july-30-002955836.html \n",
            "https://phys.org/news/2020-06-zealand-ancient-monster-penguins-northern.html \n",
            "https://9to5mac.com/2020/06/30/new-evilquest-mac-ransomware-found-in-pirated-apps-encrypts-users-files/ \n",
            "https://www.dailymail.co.uk/tvshowbiz/article-8477401/Alyssa-Milano-claps-critics-accusing-blackface.html \n",
            "https://www.foxnews.com/sports/baseballs-minor-leagues-cancel-2020-seasons \n",
            "https://www.theguardian.com/us-news/2020/jun/30/mississippi-flag-confederate-symbol-remove \n",
            "https://www.nytimes.com/2020/06/30/us/coronavirus-schools-reopening-guidelines-aap.html \n",
            "https://www.foxnews.com/media/adam-kinzinger-russian-bounty-intel-trump-briefing \n",
            "https://www.foxnews.com/politics/pompeo-united-nations-iran-arms-embargo \n",
            "https://www.bbc.com/news/world-europe-53233386 \n",
            "https://www.wsj.com/articles/an-old-vaccine-may-help-against-coronavirus-11593557168 \n",
            "https://www.washingtonpost.com/health/protests-probably-didnt-lead-to-coronavirus-spikes-but-its-hard-to-know-for-sure/2020/06/30/d8179678-baf5-11ea-8cf5-9c1b8d7f84c6_story.html \n"
          ]
        }
      ],
      "source": [
        "# making an updated list of all url\n",
        "R = len(results)\n",
        "C = 1\n",
        "  \n",
        "# Initialize matrix \n",
        "url = [] \n",
        "print(\"Enter the entries rowwise:\") \n",
        "\n",
        "for i in range(R):\n",
        "    url.append(results[i])\n",
        "    \n",
        "# For printing the matrix \n",
        "for i in range(R):\n",
        "    print(url[i], end = \" \") \n",
        "    print()"
      ]
    },
    {
      "cell_type": "code",
      "execution_count": null,
      "metadata": {
        "colab": {
          "base_uri": "https://localhost:8080/",
          "height": 390
        },
        "id": "Um2lm_JJjw9H",
        "outputId": "070bd980-ffab-4a67-919d-76b1c8ecdbf3"
      },
      "outputs": [
        {
          "name": "stdout",
          "output_type": "stream",
          "text": [
            "Enter the entries rowwise:\n",
            "1 \n",
            "0 \n",
            "1 \n",
            "0 \n",
            "1 \n",
            "1 \n",
            "1 \n",
            "1 \n",
            "0 \n",
            "0 \n",
            "1 \n",
            "1 \n",
            "1 \n",
            "0 \n",
            "1 \n",
            "1 \n",
            "1 \n",
            "0 \n",
            "0 \n",
            "1 \n"
          ]
        }
      ],
      "source": [
        "# making a list of all prediction values\n",
        "R = len(label_list)\n",
        "C = 1\n",
        "  \n",
        "# Initialize matrix \n",
        "label = [] \n",
        "print(\"Enter the entries rowwise:\") \n",
        "  \n",
        "# For user input \n",
        "for i in range(R):\n",
        "    label.append(label_list[i]) \n",
        "# For printing the matrix \n",
        "for i in range(R): \n",
        "    print(label[i], end = \" \") \n",
        "    print() "
      ]
    },
    {
      "cell_type": "code",
      "execution_count": null,
      "metadata": {
        "colab": {
          "base_uri": "https://localhost:8080/",
          "height": 55
        },
        "id": "ib8Q9Oi43lWY",
        "outputId": "3cd5da5c-3554-46d4-cbbe-1024cf075ba1"
      },
      "outputs": [
        {
          "name": "stdout",
          "output_type": "stream",
          "text": [
            "{'URL': ['https://www.cnn.com/2020/07/01/china/hong-kong-national-security-law-july-1-intl-hnk/index.html', 'https://www.cnbc.com/2020/06/30/stock-market-futures-open-to-close-news.html', 'https://www.cnet.com/how-to/spacex-just-launched-a-space-force-satellite-with-brand-new-falcon-9-booster/', 'https://www.youtube.com/watch?v=G2D7DAzp2_g', 'https://www.cnn.com/2020/07/01/politics/donald-trump-coronavirus/index.html', 'https://www.cnn.com/2020/06/30/politics/primary-results-highlights-june-30/index.html', 'https://www.geo.tv/latest/295694-kate-middleton-warned-prince-harry-to-move-with-caution-while-dating-meghan-markle', 'https://www.marketwatch.com/story/a-new-virus-emerging-in-chinese-pig-farms-has-the-essential-hallmarks-for-a-pandemic-2020-07-01', 'https://www.engadget.com/mars-2020-rover-launch-delay-july-30-002955836.html', 'https://phys.org/news/2020-06-zealand-ancient-monster-penguins-northern.html', 'https://9to5mac.com/2020/06/30/new-evilquest-mac-ransomware-found-in-pirated-apps-encrypts-users-files/', 'https://www.dailymail.co.uk/tvshowbiz/article-8477401/Alyssa-Milano-claps-critics-accusing-blackface.html', 'https://www.foxnews.com/sports/baseballs-minor-leagues-cancel-2020-seasons', 'https://www.theguardian.com/us-news/2020/jun/30/mississippi-flag-confederate-symbol-remove', 'https://www.nytimes.com/2020/06/30/us/coronavirus-schools-reopening-guidelines-aap.html', 'https://www.foxnews.com/media/adam-kinzinger-russian-bounty-intel-trump-briefing', 'https://www.foxnews.com/politics/pompeo-united-nations-iran-arms-embargo', 'https://www.bbc.com/news/world-europe-53233386', 'https://www.wsj.com/articles/an-old-vaccine-may-help-against-coronavirus-11593557168', 'https://www.washingtonpost.com/health/protests-probably-didnt-lead-to-coronavirus-spikes-but-its-hard-to-know-for-sure/2020/06/30/d8179678-baf5-11ea-8cf5-9c1b8d7f84c6_story.html'], 'LABEL': [1, 0, 1, 0, 1, 1, 1, 1, 0, 0, 1, 1, 1, 0, 1, 1, 1, 0, 0, 1]}\n"
          ]
        }
      ],
      "source": [
        "d = {'URL':url,'LABEL':label}\n",
        "print(d)"
      ]
    },
    {
      "cell_type": "code",
      "execution_count": null,
      "metadata": {
        "colab": {
          "base_uri": "https://localhost:8080/",
          "height": 390
        },
        "id": "udsz3Az03xyM",
        "outputId": "abffc8ea-a283-49d5-ab88-c14118d979e9"
      },
      "outputs": [
        {
          "name": "stdout",
          "output_type": "stream",
          "text": [
            "                                                  URL  LABEL\n",
            "0   https://www.cnn.com/2020/07/01/china/hong-kong...      1\n",
            "1   https://www.cnbc.com/2020/06/30/stock-market-f...      0\n",
            "2   https://www.cnet.com/how-to/spacex-just-launch...      1\n",
            "3         https://www.youtube.com/watch?v=G2D7DAzp2_g      0\n",
            "4   https://www.cnn.com/2020/07/01/politics/donald...      1\n",
            "5   https://www.cnn.com/2020/06/30/politics/primar...      1\n",
            "6   https://www.geo.tv/latest/295694-kate-middleto...      1\n",
            "7   https://www.marketwatch.com/story/a-new-virus-...      1\n",
            "8   https://www.engadget.com/mars-2020-rover-launc...      0\n",
            "9   https://phys.org/news/2020-06-zealand-ancient-...      0\n",
            "10  https://9to5mac.com/2020/06/30/new-evilquest-m...      1\n",
            "11  https://www.dailymail.co.uk/tvshowbiz/article-...      1\n",
            "12  https://www.foxnews.com/sports/baseballs-minor...      1\n",
            "13  https://www.theguardian.com/us-news/2020/jun/3...      0\n",
            "14  https://www.nytimes.com/2020/06/30/us/coronavi...      1\n",
            "15  https://www.foxnews.com/media/adam-kinzinger-r...      1\n",
            "16  https://www.foxnews.com/politics/pompeo-united...      1\n",
            "17     https://www.bbc.com/news/world-europe-53233386      0\n",
            "18  https://www.wsj.com/articles/an-old-vaccine-ma...      0\n",
            "19  https://www.washingtonpost.com/health/protests...      1\n"
          ]
        }
      ],
      "source": [
        "df=pd.DataFrame(d)\n",
        "print(df)"
      ]
    },
    {
      "cell_type": "code",
      "execution_count": null,
      "metadata": {
        "colab": {
          "base_uri": "https://localhost:8080/",
          "height": 70
        },
        "id": "nbY4NS60cCMp",
        "outputId": "f7c914c9-14a6-45c8-cc97-54b9608648e9"
      },
      "outputs": [
        {
          "data": {
            "text/plain": [
              "URL      object\n",
              "LABEL     int64\n",
              "dtype: object"
            ]
          },
          "execution_count": 26,
          "metadata": {},
          "output_type": "execute_result"
        }
      ],
      "source": [
        "df.dtypes"
      ]
    },
    {
      "cell_type": "code",
      "execution_count": null,
      "metadata": {
        "colab": {
          "base_uri": "https://localhost:8080/",
          "height": 212
        },
        "id": "Z76guWBVjbZu",
        "outputId": "16a3dc7d-0025-457f-b529-1b0188b907d9"
      },
      "outputs": [
        {
          "name": "stdout",
          "output_type": "stream",
          "text": [
            "                                                  URL  LABEL\n",
            "0   https://www.cnn.com/2020/07/01/china/hong-kong...      1\n",
            "2   https://www.cnet.com/how-to/spacex-just-launch...      1\n",
            "4   https://www.cnn.com/2020/07/01/politics/donald...      1\n",
            "5   https://www.cnn.com/2020/06/30/politics/primar...      1\n",
            "6   https://www.geo.tv/latest/295694-kate-middleto...      1\n",
            "7   https://www.marketwatch.com/story/a-new-virus-...      1\n",
            "10  https://9to5mac.com/2020/06/30/new-evilquest-m...      1\n",
            "11  https://www.dailymail.co.uk/tvshowbiz/article-...      1\n",
            "12  https://www.foxnews.com/sports/baseballs-minor...      1\n",
            "14  https://www.nytimes.com/2020/06/30/us/coronavi...      1\n",
            "15  https://www.foxnews.com/media/adam-kinzinger-r...      1\n",
            "16  https://www.foxnews.com/politics/pompeo-united...      1\n",
            "19  https://www.washingtonpost.com/health/protests...      1\n"
          ]
        }
      ],
      "source": [
        "df = df[df['LABEL'] == True]\n",
        "print(df)"
      ]
    },
    {
      "cell_type": "code",
      "execution_count": null,
      "metadata": {
        "colab": {
          "base_uri": "https://localhost:8080/",
          "height": 212
        },
        "id": "VV3weQNjINHj",
        "outputId": "a1520db7-0520-4b03-8233-8e8dd49811df"
      },
      "outputs": [
        {
          "name": "stdout",
          "output_type": "stream",
          "text": [
            "0     https://www.cnn.com/2020/07/01/china/hong-kong...\n",
            "2     https://www.cnet.com/how-to/spacex-just-launch...\n",
            "4     https://www.cnn.com/2020/07/01/politics/donald...\n",
            "5     https://www.cnn.com/2020/06/30/politics/primar...\n",
            "6     https://www.geo.tv/latest/295694-kate-middleto...\n",
            "7     https://www.marketwatch.com/story/a-new-virus-...\n",
            "10    https://9to5mac.com/2020/06/30/new-evilquest-m...\n",
            "11    https://www.dailymail.co.uk/tvshowbiz/article-...\n",
            "12    https://www.foxnews.com/sports/baseballs-minor...\n",
            "14    https://www.nytimes.com/2020/06/30/us/coronavi...\n",
            "15    https://www.foxnews.com/media/adam-kinzinger-r...\n",
            "16    https://www.foxnews.com/politics/pompeo-united...\n",
            "19    https://www.washingtonpost.com/health/protests...\n",
            "Name: URL, dtype: object\n"
          ]
        }
      ],
      "source": [
        "print(df['URL'])"
      ]
    },
    {
      "cell_type": "code",
      "execution_count": null,
      "metadata": {
        "colab": {
          "base_uri": "https://localhost:8080/",
          "height": 195
        },
        "id": "UJK3VuzbhVBX",
        "outputId": "14ac2797-519e-427b-8794-a998914dd73e"
      },
      "outputs": [
        {
          "name": "stdout",
          "output_type": "stream",
          "text": [
            "[['https://www.reuters.com/article/us-health-coronavirus-china-idUSKCN21V06R']\n",
            " ['https://www.washingtonpost.com/world/2020/04/13/coronavirus-latest-news/']\n",
            " ['https://www.forbes.com/sites/startswithabang/2020/04/13/the-most-important-image-ever-taken-by-nasas-hubble-space-telescope/']\n",
            " ['https://indiagoneviral.com/entertainment/2020/04/13/killing-eve-season-premiere-recap-end-of-story/22471/randallbedford/']\n",
            " ['https://www.thenews.com.pk/latest/643777-ryan-reynolds-reignites-funny-feud-with-hugh-jackman']\n",
            " ['https://nypost.com/2020/04/12/smithfield-closes-sd-pork-plant-indefinitely-warns-of-meat-shortages/']\n",
            " ['http://www.marketwatch.com/story/alarming-surge-in-coronavirus-deaths-at-nursing-homes-nationwide-2020-04-12']\n",
            " ['https://www.usatoday.com/story/sports/nba/jazz/2020/04/12/rudy-gobert-donovan-mitchell-strained-relationship/2980754001/']\n",
            " ['https://www.nytimes.com/2020/04/12/arts/television/westworld-recap.html']\n",
            " ['https://thehill.com/homenews/administration/492449-trump-lashes-out-at-new-york-times-over-report-on-coronavirus']\n",
            " ['https://www.cbssports.com/nba/news/nba-horse-challenge-watch-zach-lavine-mike-conley-in-semifinals-live-stream-matchups-tv-channel-dates/']]\n"
          ]
        }
      ],
      "source": [
        "df1 = df[['URL']].to_numpy()\n",
        "print(df1)\n",
        "\n",
        "#df.to_csv ('/content/drive/My Drive/prediction.csv',mode='a', index = False, header=False)"
      ]
    },
    {
      "cell_type": "code",
      "execution_count": null,
      "metadata": {
        "colab": {
          "base_uri": "https://localhost:8080/",
          "height": 35
        },
        "id": "xovqOPG3e1sK",
        "outputId": "14b40166-3dc5-4132-993e-6b047aa7c4ab"
      },
      "outputs": [
        {
          "data": {
            "text/plain": [
              "numpy.ndarray"
            ]
          },
          "execution_count": 29,
          "metadata": {},
          "output_type": "execute_result"
        }
      ],
      "source": [
        "type(df1)"
      ]
    },
    {
      "cell_type": "code",
      "execution_count": null,
      "metadata": {
        "colab": {
          "base_uri": "https://localhost:8080/",
          "height": 124
        },
        "id": "oIi4vhjuiqzW",
        "outputId": "9bc8fb17-5fa2-474e-870a-eb3b0025c402"
      },
      "outputs": [
        {
          "name": "stdout",
          "output_type": "stream",
          "text": [
            " * Serving Flask app \"__main__\" (lazy loading)\n",
            " * Environment: production\n",
            "   WARNING: This is a development server. Do not use it in a production deployment.\n",
            "   Use a production WSGI server instead.\n",
            " * Debug mode: off\n"
          ]
        },
        {
          "name": "stderr",
          "output_type": "stream",
          "text": [
            " * Running on http://0.0.0.0:8888/ (Press CTRL+C to quit)\n"
          ]
        }
      ],
      "source": [
        "import strconv as strconv\n",
        "from flask import Flask, request, jsonify, render_template, send_file, \\\n",
        "    make_response  # import main Flask class and request object\n",
        "#import cv2 \n",
        "import json\n",
        "\n",
        "app = Flask(__name__)\n",
        "\n",
        "# root\n",
        "@app.route(\"/\")\n",
        "def index():\n",
        "    \"\"\"\n",
        "    this is a root dir of my server\n",
        "    :return: str\n",
        "    \"\"\"\n",
        "    return \"This is root!!!!\"\n",
        "\n",
        "@app.route('/image', methods=[\"GET\", \"POST\"])\n",
        "\n",
        "def query_example():\n",
        "    url_array = df1\n",
        "    print(url_array)\n",
        "    url_array = str(url_array)\n",
        "    return jsonify({'result': url_array})\n",
        "\n",
        "\n",
        "if __name__ == '__main__':\n",
        "    app.run(host='0.0.0.0', port=8888, threaded=False)"
      ]
    },
    {
      "cell_type": "code",
      "execution_count": null,
      "metadata": {
        "id": "cS9ibd4ncaqL"
      },
      "outputs": [],
      "source": [
        ""
      ]
    }
  ],
  "metadata": {
    "accelerator": "TPU",
    "colab": {
      "collapsed_sections": [],
      "name": "CNN_Algorithm.ipynb",
      "provenance": []
    },
    "kernelspec": {
      "display_name": "Python 3",
      "language": "python",
      "name": "python3"
    },
    "language_info": {
      "codemirror_mode": {
        "name": "ipython",
        "version": 3
      },
      "file_extension": ".py",
      "mimetype": "text/x-python",
      "name": "python",
      "nbconvert_exporter": "python",
      "pygments_lexer": "ipython3",
      "version": "3.7.6"
    }
  },
  "nbformat": 4,
  "nbformat_minor": 0
}